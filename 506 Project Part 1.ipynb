{
 "cells": [
  {
   "cell_type": "code",
   "execution_count": 1,
   "metadata": {
    "collapsed": true
   },
   "outputs": [],
   "source": [
    "# Insert all required imports here\n",
    "import pandas as pd\n",
    "import numpy as np"
   ]
  },
  {
   "cell_type": "code",
   "execution_count": 2,
   "metadata": {
    "collapsed": true
   },
   "outputs": [],
   "source": [
    "#import data here\n",
    "yearend = pd.read_csv('yearend.csv')\n",
    "tr= pd.read_csv('tr.csv', engine='python')\n",
    "releases= pd.read_csv('releases.csv')\n",
    "admissions = pd.read_csv('admissions.csv', engine='python')"
   ]
  },
  {
   "cell_type": "code",
   "execution_count": 3,
   "metadata": {
    "collapsed": true
   },
   "outputs": [],
   "source": [
    "#inmates that were over 55 when at the year's end\n",
    "yearend = yearend[yearend['AGEYREND']==5]\n",
    "yearend = yearend[['SEX', 'RPTYEAR', 'STATE', 'EDUCATION', 'ADMTYPE', 'OFFGENERAL','ADMITYR','SENTLGTH', 'OFFDETAIL', 'RACE', 'AGEADMIT', 'AGEYREND','TIMESRVD_YREND']]"
   ]
  },
  {
   "cell_type": "code",
   "execution_count": 4,
   "metadata": {
    "collapsed": true
   },
   "outputs": [],
   "source": [
    "#inmates who were admitted after they were 55\n",
    "admissions = admissions[admissions['AGEADMIT']==5]\n",
    "admissions = admissions[['SEX', 'RPTYEAR', 'STATE', 'EDUCATION', 'ADMTYPE', 'OFFGENERAL','ADMITYR','SENTLGTH', 'OFFDETAIL', 'RACE', 'AGEADMIT']]\n"
   ]
  },
  {
   "cell_type": "code",
   "execution_count": 5,
   "metadata": {
    "collapsed": true
   },
   "outputs": [],
   "source": [
    "tr = tr[(tr['AGERELEASE']==5) | (tr['AGERELEASE']==' ')]"
   ]
  },
  {
   "cell_type": "code",
   "execution_count": 6,
   "metadata": {
    "collapsed": true
   },
   "outputs": [],
   "source": [
    "tr = tr.reset_index()"
   ]
  },
  {
   "cell_type": "code",
   "execution_count": 7,
   "metadata": {
    "collapsed": true
   },
   "outputs": [],
   "source": [
    "#a function that determines whether an inmate is over 55 when they are released or, if\n",
    "#they have not been released, determines whether they are currently over 55\n",
    "\n",
    "def is_over_55(row):\n",
    "    '''\n",
    "    '''\n",
    "    if (row['AGERELEASE']==' ') & (2014-row['ADMITYR']+(int(str(row['AGEADMIT']).ljust(2,'5'))+10)>55):\n",
    "        return True\n",
    "    else:\n",
    "        return False\n",
    "\n",
    "over55 = tr.apply(lambda row: is_over_55(row), axis=1)"
   ]
  },
  {
   "cell_type": "code",
   "execution_count": 9,
   "metadata": {},
   "outputs": [],
   "source": [
    "tr['OVER55'] = over55"
   ]
  },
  {
   "cell_type": "code",
   "execution_count": 10,
   "metadata": {
    "collapsed": true
   },
   "outputs": [],
   "source": [
    "#inmates that were released when they were over 55 or inmates that have not yet been released and could be over 55\n",
    "tr=tr[(tr['AGERELEASE']==5) | (tr['OVER55']==True)]\n",
    "tr= tr[['ABT_INMATE_ID', 'SEX', 'ADMTYPE', 'OFFGENERAL', 'EDUCATION', 'ADMITYR','RELEASEYR','SENTLGTH', 'OFFDETAIL', 'RACE', 'AGEADMIT', 'AGERELEASE', 'TIMESRVD','RELTYPE', 'STATE']]"
   ]
  },
  {
   "cell_type": "code",
   "execution_count": 12,
   "metadata": {
    "collapsed": true,
    "scrolled": true
   },
   "outputs": [],
   "source": [
    "#inmates that were released when they were over 55\n",
    "releases=releases[releases['AGERLSE']==5]\n",
    "releases = releases[['SEX', 'RPTYEAR', 'STATE', 'EDUCATION', 'ADMTYPE', 'OFFGENERAL','ADMITYR','SENTLGTH', 'OFFDETAIL', 'RACE', 'AGEADMIT', 'RELYR', 'RELTYPE','AGERLSE', 'TIMESRVD_REL']]"
   ]
  },
  {
   "cell_type": "code",
   "execution_count": 13,
   "metadata": {},
   "outputs": [
    {
     "data": {
      "text/plain": [
       "Index(['SEX', 'RPTYEAR', 'STATE', 'EDUCATION', 'ADMTYPE', 'OFFGENERAL',\n",
       "       'ADMITYR', 'SENTLGTH', 'OFFDETAIL', 'RACE', 'AGEADMIT', 'RELYR',\n",
       "       'RELTYPE', 'AGERLSE', 'TIMESRVD_REL'],\n",
       "      dtype='object')"
      ]
     },
     "execution_count": 13,
     "metadata": {},
     "output_type": "execute_result"
    }
   ],
   "source": [
    "releases.columns"
   ]
  },
  {
   "cell_type": "code",
   "execution_count": 14,
   "metadata": {},
   "outputs": [
    {
     "data": {
      "text/plain": [
       "Index(['ABT_INMATE_ID', 'SEX', 'ADMTYPE', 'OFFGENERAL', 'EDUCATION', 'ADMITYR',\n",
       "       'RELEASEYR', 'SENTLGTH', 'OFFDETAIL', 'RACE', 'AGEADMIT', 'AGERELEASE',\n",
       "       'TIMESRVD', 'RELTYPE', 'STATE'],\n",
       "      dtype='object')"
      ]
     },
     "execution_count": 14,
     "metadata": {},
     "output_type": "execute_result"
    }
   ],
   "source": [
    "tr.columns"
   ]
  },
  {
   "cell_type": "code",
   "execution_count": 15,
   "metadata": {},
   "outputs": [
    {
     "data": {
      "text/plain": [
       "Index(['SEX', 'RPTYEAR', 'STATE', 'EDUCATION', 'ADMTYPE', 'OFFGENERAL',\n",
       "       'ADMITYR', 'SENTLGTH', 'OFFDETAIL', 'RACE', 'AGEADMIT'],\n",
       "      dtype='object')"
      ]
     },
     "execution_count": 15,
     "metadata": {},
     "output_type": "execute_result"
    }
   ],
   "source": [
    "admissions.columns"
   ]
  },
  {
   "cell_type": "code",
   "execution_count": 16,
   "metadata": {},
   "outputs": [
    {
     "data": {
      "text/plain": [
       "Index(['SEX', 'RPTYEAR', 'STATE', 'EDUCATION', 'ADMTYPE', 'OFFGENERAL',\n",
       "       'ADMITYR', 'SENTLGTH', 'OFFDETAIL', 'RACE', 'AGEADMIT', 'AGEYREND',\n",
       "       'TIMESRVD_YREND'],\n",
       "      dtype='object')"
      ]
     },
     "execution_count": 16,
     "metadata": {},
     "output_type": "execute_result"
    }
   ],
   "source": [
    "yearend.columns"
   ]
  },
  {
   "cell_type": "code",
   "execution_count": 27,
   "metadata": {
    "collapsed": true
   },
   "outputs": [],
   "source": []
  },
  {
   "cell_type": "raw",
   "metadata": {},
   "source": []
  },
  {
   "cell_type": "code",
   "execution_count": null,
   "metadata": {
    "collapsed": true
   },
   "outputs": [],
   "source": []
  },
  {
   "cell_type": "code",
   "execution_count": null,
   "metadata": {
    "collapsed": true
   },
   "outputs": [],
   "source": []
  }
 ],
 "metadata": {
  "kernelspec": {
   "display_name": "Python 3",
   "language": "python",
   "name": "python3"
  },
  "language_info": {
   "codemirror_mode": {
    "name": "ipython",
    "version": 3
   },
   "file_extension": ".py",
   "mimetype": "text/x-python",
   "name": "python",
   "nbconvert_exporter": "python",
   "pygments_lexer": "ipython3",
   "version": "3.6.2"
  }
 },
 "nbformat": 4,
 "nbformat_minor": 2
}
