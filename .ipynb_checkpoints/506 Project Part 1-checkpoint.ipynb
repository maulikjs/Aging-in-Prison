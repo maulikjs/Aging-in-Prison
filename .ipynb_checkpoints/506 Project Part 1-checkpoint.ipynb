{
 "cells": [
  {
   "cell_type": "code",
   "execution_count": 2,
   "metadata": {
    "collapsed": true
   },
   "outputs": [],
   "source": [
    "# Insert all required imports here\n",
    "import pandas as pd\n",
    "import numpy as np"
   ]
  },
  {
   "cell_type": "code",
   "execution_count": null,
   "metadata": {
    "collapsed": true
   },
   "outputs": [],
   "source": [
    "#import data here\n",
    "yearend = pd.read_csv('yearend.csv')\n",
    "tr= pd.read_csv('tr.csv', engine='python')"
   ]
  },
  {
   "cell_type": "code",
   "execution_count": 1,
   "metadata": {},
   "outputs": [],
   "source": [
    "releases= pd.read_csv('releases.csv')\n",
    "admissions = pd.read_csv('admissions.csv', engine='python')"
   ]
  },
  {
   "cell_type": "code",
   "execution_count": 43,
   "metadata": {
    "collapsed": true
   },
   "outputs": [],
   "source": [
    "yearend = yearend[yearend['AGEADMIT']==5]\n",
    "yearend = yearend[['SEX', 'RPTYEAR', 'STATE', 'EDUCATION', 'ADMTYPE', 'OFFGENERAL','ADMITYR','SENTLGTH', 'OFFDETAIL', 'RACE', 'AGEADMIT', 'AGEYREND','TIMESRVD_YREND']]"
   ]
  },
  {
   "cell_type": "code",
   "execution_count": 49,
   "metadata": {
    "collapsed": true
   },
   "outputs": [],
   "source": [
    "admissions = admissions[admissions['AGEADMIT']==5]\n",
    "admissions = admissions[['SEX', 'RPTYEAR', 'STATE', 'EDUCATION', 'ADMTYPE', 'OFFGENERAL','ADMITYR','SENTLGTH', 'OFFDETAIL', 'RACE', 'AGEADMIT']]\n"
   ]
  },
  {
   "cell_type": "code",
   "execution_count": 56,
   "metadata": {
    "collapsed": true
   },
   "outputs": [],
   "source": [
    "tr=tr[tr['AGEADMIT']==5]\n",
    "tr= tr[['ABT_INMATE_ID', 'SEX', 'ADMTYPE', 'OFFGENERAL', 'EDUCATION', 'ADMITYR','RELEASEYR','SENTLGTH', 'OFFDETAIL', 'RACE', 'AGEADMIT', 'AGERELEASE', 'TIMESRVD','RELTYPE', 'STATE']]"
   ]
  },
  {
   "cell_type": "code",
   "execution_count": 60,
   "metadata": {
    "collapsed": true,
    "scrolled": true
   },
   "outputs": [],
   "source": [
    "releases=releases[releases['AGEADMIT']==5]\n",
    "releases = releases[['SEX', 'RPTYEAR', 'STATE', 'EDUCATION', 'ADMTYPE', 'OFFGENERAL','ADMITYR','SENTLGTH', 'OFFDETAIL', 'RACE', 'AGEADMIT', 'RELYR', 'RELTYPE','AGERLSE', 'TIMESRVD_REL']]"
   ]
  },
  {
   "cell_type": "code",
   "execution_count": 66,
   "metadata": {},
   "outputs": [
    {
     "data": {
      "text/plain": [
       "Index(['SEX', 'RPTYEAR', 'STATE', 'EDUCATION', 'ADMTYPE', 'OFFGENERAL',\n",
       "       'ADMITYR', 'SENTLGTH', 'OFFDETAIL', 'RACE', 'AGEADMIT', 'RELYR',\n",
       "       'RELTYPE', 'AGERLSE', 'TIMESRVD_REL'],\n",
       "      dtype='object')"
      ]
     },
     "execution_count": 66,
     "metadata": {},
     "output_type": "execute_result"
    }
   ],
   "source": [
    "releases.columns"
   ]
  },
  {
   "cell_type": "code",
   "execution_count": 67,
   "metadata": {},
   "outputs": [
    {
     "data": {
      "text/plain": [
       "Index(['ABT_INMATE_ID', 'SEX', 'ADMTYPE', 'OFFGENERAL', 'EDUCATION', 'ADMITYR',\n",
       "       'RELEASEYR', 'SENTLGTH', 'OFFDETAIL', 'RACE', 'AGEADMIT', 'AGERELEASE',\n",
       "       'TIMESRVD', 'RELTYPE', 'STATE'],\n",
       "      dtype='object')"
      ]
     },
     "execution_count": 67,
     "metadata": {},
     "output_type": "execute_result"
    }
   ],
   "source": [
    "tr.columns"
   ]
  },
  {
   "cell_type": "code",
   "execution_count": 68,
   "metadata": {},
   "outputs": [
    {
     "data": {
      "text/plain": [
       "Index(['SEX', 'RPTYEAR', 'STATE', 'EDUCATION', 'ADMTYPE', 'OFFGENERAL',\n",
       "       'ADMITYR', 'SENTLGTH', 'OFFDETAIL', 'RACE', 'AGEADMIT'],\n",
       "      dtype='object')"
      ]
     },
     "execution_count": 68,
     "metadata": {},
     "output_type": "execute_result"
    }
   ],
   "source": [
    "admissions.columns"
   ]
  },
  {
   "cell_type": "code",
   "execution_count": 69,
   "metadata": {},
   "outputs": [
    {
     "data": {
      "text/plain": [
       "Index(['SEX', 'RPTYEAR', 'STATE', 'EDUCATION', 'ADMTYPE', 'OFFGENERAL',\n",
       "       'ADMITYR', 'SENTLGTH', 'OFFDETAIL', 'RACE', 'AGEADMIT', 'AGEYREND',\n",
       "       'TIMESRVD_YREND'],\n",
       "      dtype='object')"
      ]
     },
     "execution_count": 69,
     "metadata": {},
     "output_type": "execute_result"
    }
   ],
   "source": [
    "yearend.columns"
   ]
  },
  {
   "cell_type": "code",
   "execution_count": 26,
   "metadata": {
    "collapsed": true
   },
   "outputs": [],
   "source": []
  },
  {
   "cell_type": "code",
   "execution_count": 27,
   "metadata": {
    "collapsed": true
   },
   "outputs": [],
   "source": []
  },
  {
   "cell_type": "raw",
   "metadata": {},
   "source": []
  },
  {
   "cell_type": "code",
   "execution_count": null,
   "metadata": {
    "collapsed": true
   },
   "outputs": [],
   "source": []
  },
  {
   "cell_type": "code",
   "execution_count": null,
   "metadata": {
    "collapsed": true
   },
   "outputs": [],
   "source": []
  }
 ],
 "metadata": {
  "kernelspec": {
   "display_name": "Python 3",
   "language": "python",
   "name": "python3"
  },
  "language_info": {
   "codemirror_mode": {
    "name": "ipython",
    "version": 3
   },
   "file_extension": ".py",
   "mimetype": "text/x-python",
   "name": "python",
   "nbconvert_exporter": "python",
   "pygments_lexer": "ipython3",
   "version": "3.6.1"
  }
 },
 "nbformat": 4,
 "nbformat_minor": 2
}
